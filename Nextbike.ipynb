{
 "cells": [
  {
   "cell_type": "markdown",
   "id": "6c99ed9f-1658-46d3-bc29-8377c19e1644",
   "metadata": {},
   "source": [
    "# Data Storage"
   ]
  },
  {
   "cell_type": "markdown",
   "id": "c5a7194c-650f-4ca6-b512-8053d05c4e29",
   "metadata": {},
   "source": [
    "## Install libraries & packages"
   ]
  },
  {
   "cell_type": "code",
   "execution_count": 24,
   "id": "730d634b-a73f-4e05-95fe-364dd04e12df",
   "metadata": {},
   "outputs": [
    {
     "name": "stdout",
     "output_type": "stream",
     "text": [
      "Requirement already satisfied: pymongo in c:\\users\\selina\\appdata\\local\\anaconda3\\lib\\site-packages (4.7.3)\n",
      "Requirement already satisfied: dnspython<3.0.0,>=1.16.0 in c:\\users\\selina\\appdata\\local\\anaconda3\\lib\\site-packages (from pymongo) (2.6.1)\n"
     ]
    }
   ],
   "source": [
    "## Install libraries & install packages needed to run MongoDB\n",
    "!pip3 install pymongo\n",
    "import pymongo\n",
    "import requests\n",
    "import time\n",
    "import matplotlib.pyplot as plt\n",
    "import os\n",
    "from IPython.display import clear_output\n",
    "import pandas as pd\n",
    "import seaborn as sns\n",
    "os.environ['PATH'] += os.pathsep + '/usr/local/bin' "
   ]
  },
  {
   "cell_type": "markdown",
   "id": "200ce386-dce6-426a-b11c-4be7b65bc403",
   "metadata": {},
   "source": [
    "## Start Docker container"
   ]
  },
  {
   "cell_type": "code",
   "execution_count": 25,
   "id": "0f84f184-251e-41dd-aafb-b48e2070034b",
   "metadata": {},
   "outputs": [
    {
     "name": "stderr",
     "output_type": "stream",
     "text": [
      " Container my_mongo  Running\n",
      " Container my_jupyter  Running\n",
      " Container bdeng-main-zookeeper-1  Running\n",
      " Container my_spark  Running\n",
      " Container bdeng-main-kafka-1  Running\n"
     ]
    }
   ],
   "source": [
    "!docker-compose up -d"
   ]
  },
  {
   "cell_type": "markdown",
   "id": "2c203104-f784-4360-aa47-d27d0859cacb",
   "metadata": {},
   "source": [
    "### Check if the services are running"
   ]
  },
  {
   "cell_type": "code",
   "execution_count": 26,
   "id": "f3f8dfe7-184e-474a-9e31-038cff5e4922",
   "metadata": {},
   "outputs": [
    {
     "name": "stdout",
     "output_type": "stream",
     "text": [
      "CONTAINER ID   IMAGE                              COMMAND                  CREATED        STATUS                  PORTS                                              NAMES\n",
      "cab6dbd2207b   confluentinc/cp-kafka:latest       \"/etc/confluent/dockâ€¦\"   25 hours ago   Up 25 hours             0.0.0.0:9092->9092/tcp, 0.0.0.0:29093->29093/tcp   bdeng-main-kafka-1\n",
      "487c3227b56c   jupyter/base-notebook:latest       \"tini -g -- start-noâ€¦\"   25 hours ago   Up 25 hours (healthy)   0.0.0.0:8888->8888/tcp                             my_jupyter\n",
      "dc3e03349414   confluentinc/cp-zookeeper:latest   \"/etc/confluent/dockâ€¦\"   25 hours ago   Up 25 hours             2888/tcp, 3888/tcp, 0.0.0.0:32181->2181/tcp        bdeng-main-zookeeper-1\n",
      "84faa88860f7   bitnami/spark:latest               \"/opt/bitnami/scriptâ€¦\"   25 hours ago   Up 25 hours             0.0.0.0:7077->7077/tcp, 0.0.0.0:8080->8080/tcp     my_spark\n",
      "a8bcc88f2c24   mongo:latest                       \"docker-entrypoint.sâ€¦\"   25 hours ago   Up 25 hours             27017/tcp, 0.0.0.0:37017->37017/tcp                my_mongo\n",
      "826666a58da5   mongo:latest                       \"docker-entrypoint.sâ€¦\"   25 hours ago   Up 25 hours             0.0.0.0:27017->27017/tcp                           mongodb\n"
     ]
    }
   ],
   "source": [
    "!docker ps"
   ]
  },
  {
   "cell_type": "markdown",
   "id": "f9f468c3-0318-45b7-bf35-bbe26013b540",
   "metadata": {},
   "source": [
    "## Connect to DB"
   ]
  },
  {
   "cell_type": "markdown",
   "id": "1e6e3c6f-f51a-41a3-bf46-9f11a8e12c33",
   "metadata": {},
   "source": [
    "# Process CSV Data"
   ]
  },
  {
   "cell_type": "markdown",
   "id": "48f1485d-31d8-4fa7-992b-d78300b23c0f",
   "metadata": {},
   "source": [
    "### Install necessary packages"
   ]
  },
  {
   "cell_type": "code",
   "execution_count": 27,
   "id": "d74418e7-af6b-404e-ae85-2e0e4339ece5",
   "metadata": {},
   "outputs": [
    {
     "name": "stdout",
     "output_type": "stream",
     "text": [
      "Requirement already satisfied: pymongo in c:\\users\\selina\\appdata\\local\\anaconda3\\lib\\site-packages (4.7.3)\n",
      "Requirement already satisfied: dnspython<3.0.0,>=1.16.0 in c:\\users\\selina\\appdata\\local\\anaconda3\\lib\\site-packages (from pymongo) (2.6.1)\n"
     ]
    }
   ],
   "source": [
    "!pip install pymongo"
   ]
  },
  {
   "cell_type": "markdown",
   "id": "94647470-1f15-4e2e-9a38-632560711ba7",
   "metadata": {},
   "source": [
    "### Read data and display the first few rows"
   ]
  },
  {
   "cell_type": "code",
   "execution_count": 30,
   "id": "1e6f2bf2-f3e7-47b8-a61d-4a430ee5a7ff",
   "metadata": {},
   "outputs": [
    {
     "name": "stdout",
     "output_type": "stream",
     "text": [
      "             title    category  \\\n",
      "0        21er Haus      museum   \n",
      "1     A.E. Köchert    shopping   \n",
      "2             Aida       cafes   \n",
      "3  Akademietheater  musicstage   \n",
      "4        Albertina      museum   \n",
      "\n",
      "                                        Beschreibung                  address  \\\n",
      "0  Das Museum wurde 2011 saniert und stellt unter...          Arsenalstraße 1   \n",
      "1  Dieser Traditions-Juwelier schmückt heute mit ...          Neuer Markt 15    \n",
      "2  Aida ist eine Wiener Konditoreikette. Das Desi...  Stock-im-Eisen-Platz 2    \n",
      "3  Seit 1922 ist das Akademietheater die zweite S...            Lisztstraße 1   \n",
      "4  Die Albertina besitzt nicht nur eine der größt...        Albertinaplatz 1    \n",
      "\n",
      "    zip  city      geo_latitude     geo_longitude             tel_1  \\\n",
      "0  1030  Wien  48,1857710810320  16,3836224650817  +43 1 795 57-134   \n",
      "1  1010  Wien        48,2065731        16,3705892               NaN   \n",
      "2  1010  Wien        48,2080194        16,3720473  +43 1 512 79 25    \n",
      "3  1030  Wien        48,2002455        16,3770872  +43 1 51444 4140   \n",
      "4  1010  Wien        48,2048541        16,3681588   +43 1 534 83 0    \n",
      "\n",
      "                     tel_1_comment             tel_2  \\\n",
      "0                              NaN               NaN   \n",
      "1                              NaN               NaN   \n",
      "2                              NaN               NaN   \n",
      "3  Tickets & Info im Servicecenter  +43 1 51444 4740   \n",
      "4                              NaN               NaN   \n",
      "\n",
      "                   tel_2_comment            tel_3              tel_3_comment  \\\n",
      "0                            NaN              NaN                        NaN   \n",
      "1                            NaN              NaN                        NaN   \n",
      "2                            NaN              NaN                        NaN   \n",
      "3  Abendkasse im Akademietheater  +43 1 513 1 513  Bestellen mit Kreditkarte   \n",
      "4                            NaN              NaN                        NaN   \n",
      "\n",
      "               email                    web_url  \\\n",
      "0                NaN    http://www.21erhaus.at/   \n",
      "1                NaN   http://www.koechert.com/   \n",
      "2                NaN         http://www.aida.at   \n",
      "3                NaN  http://www.burgtheater.at   \n",
      "4  info@albertina.at   http://www.albertina.at/   \n",
      "\n",
      "                                    url  \n",
      "0                                   NaN  \n",
      "1    /portal/locations-de/a.e.-koechert  \n",
      "2             /portal/locations-de/aida  \n",
      "3  /portal/locations-de/akademietheater  \n",
      "4        /portal/locations-de/albertina  \n"
     ]
    }
   ],
   "source": [
    "import pandas as pd\n",
    "\n",
    "# Read the CSV file with the specified encoding\n",
    "poi_df = pd.read_csv('data/top-locations-wien.csv', encoding='latin1', sep=';')\n",
    "\n",
    "\n",
    "# Display the first few rows of the dataframe\n",
    "print(poi_df.head())\n"
   ]
  },
  {
   "cell_type": "markdown",
   "id": "20983d77-8eaf-4b9d-ad47-07bffacddf0b",
   "metadata": {},
   "source": [
    "### Check for missing values"
   ]
  },
  {
   "cell_type": "code",
   "execution_count": 31,
   "id": "be8dd5e8-e323-49ca-b1a6-022e30cb3edc",
   "metadata": {},
   "outputs": [
    {
     "name": "stdout",
     "output_type": "stream",
     "text": [
      "title              0\n",
      "category           0\n",
      "Beschreibung       0\n",
      "address            3\n",
      "zip                0\n",
      "city               0\n",
      "geo_latitude       0\n",
      "geo_longitude      0\n",
      "tel_1             22\n",
      "tel_1_comment    100\n",
      "tel_2            129\n",
      "tel_2_comment    130\n",
      "tel_3            132\n",
      "tel_3_comment    132\n",
      "email             80\n",
      "web_url            6\n",
      "url                7\n",
      "dtype: int64\n"
     ]
    }
   ],
   "source": [
    "print(poi_df.isnull().sum())"
   ]
  },
  {
   "cell_type": "markdown",
   "id": "266f2c83-6a41-469b-a497-ca94c66d3fc7",
   "metadata": {},
   "source": [
    "### CSV-Data cleaning"
   ]
  },
  {
   "cell_type": "code",
   "execution_count": 32,
   "id": "bd24ca26-e730-4d9a-90fc-e8758690b01d",
   "metadata": {},
   "outputs": [
    {
     "name": "stdout",
     "output_type": "stream",
     "text": [
      "0\n"
     ]
    }
   ],
   "source": [
    "# Fill or drop missing values\n",
    "poi_df = poi_df.dropna()  # Dropping rows with missing values\n",
    "\n",
    "# Check for duplicates\n",
    "print(poi_df.duplicated().sum())\n",
    "\n",
    "# Remove duplicates\n",
    "poi_df = poi_df.drop_duplicates()"
   ]
  },
  {
   "cell_type": "code",
   "execution_count": null,
   "id": "49485acb-6df1-4ade-ab44-53cb77d2dafb",
   "metadata": {},
   "outputs": [],
   "source": [
    "# Remove unnecessary rows (geo_latitude, geo_longitude, tel_1, tel_1_comment, tel_2, tel_2_comment, tel_3, tel_3_comment, email, url)\n"
   ]
  },
  {
   "cell_type": "markdown",
   "id": "2716d6e3-35c5-45e3-9630-84ce1741e774",
   "metadata": {},
   "source": [
    "### Show clean Dataframe"
   ]
  },
  {
   "cell_type": "code",
   "execution_count": 33,
   "id": "3715ed90-4841-42c6-981c-8b78c479bfdc",
   "metadata": {},
   "outputs": [
    {
     "name": "stdout",
     "output_type": "stream",
     "text": [
      "Empty DataFrame\n",
      "Columns: [title, category, Beschreibung, address, zip, city, geo_latitude, geo_longitude, tel_1, tel_1_comment, tel_2, tel_2_comment, tel_3, tel_3_comment, email, web_url, url]\n",
      "Index: []\n"
     ]
    }
   ],
   "source": [
    "print(poi_df.head()"
   ]
  },
  {
   "cell_type": "markdown",
   "id": "3151e6cb-2226-42fa-8b02-eabbc7f94e02",
   "metadata": {},
   "source": [
    "## Safe data in MongoDB"
   ]
  },
  {
   "cell_type": "code",
   "execution_count": null,
   "id": "f01837fe-db66-4fa3-9e9d-05d42fe6c27f",
   "metadata": {},
   "outputs": [],
   "source": [
    "# Connect to MongoDB\n",
    "client = MongoClient('localhost', 37017)\n",
    "db = client['citybike_vienna']\n",
    "collection = db['top_locations_wien']\n",
    "\n",
    "# Insert data into MongoDB\n",
    "collection.insert_many(poi_df.to_dict('records'))\n",
    "\n",
    "print(\"Data inserted into MongoDB\")"
   ]
  },
  {
   "cell_type": "markdown",
   "id": "cd9940b7-add3-4630-ba96-69ccc1b59a52",
   "metadata": {},
   "source": [
    "## Analyse and Vizualisation of CSV-Data"
   ]
  },
  {
   "cell_type": "code",
   "execution_count": null,
   "id": "0b2605bf-c0b8-4b65-821b-44f8a9046ea4",
   "metadata": {},
   "outputs": [],
   "source": [
    "# Anzahl der POIs pro Kategorie\n",
    "category_counts = poi_df['Kategorie'].value_counts()\n",
    "\n",
    "# Plotting the number of POIs per category\n",
    "plt.figure(figsize=(10, 6))\n",
    "sns.barplot(x=category_counts.index, y=category_counts.values, palette='viridis')\n",
    "plt.title('Anzahl der POIs pro Kategorie')\n",
    "plt.xlabel('Kategorie')\n",
    "plt.ylabel('Anzahl der POIs')\n",
    "plt.xticks(rotation=45)\n",
    "plt.show()"
   ]
  },
  {
   "cell_type": "markdown",
   "id": "f346d409-d9d3-4067-a2cc-3574bacce268",
   "metadata": {},
   "source": [
    "## Linking the data with Citybike locations"
   ]
  },
  {
   "cell_type": "code",
   "execution_count": null,
   "id": "b29469b5-d19a-4af7-812b-f99a50c70b11",
   "metadata": {},
   "outputs": [],
   "source": [
    "# Mock data for Citybike locations and usage\n",
    "\n",
    "citybike_locations = {\n",
    "    \"Museum\": 10,\n",
    "    \"Cafe\": 15,\n",
    "    \"Nightlife\": 5,\n",
    "    \"Park\": 8,\n",
    "    \"Shopping\": 12\n",
    "}\n",
    "\n",
    "# Assuming we have a similar structure for the POIs and Citybike locations\n",
    "poi_df['Citybike_Standorte'] = poi_df['Kategorie'].map(citybike_locations)\n",
    "\n",
    "# Plotting the number of Citybike locations per POI category\n",
    "plt.figure(figsize=(10, 6))\n",
    "sns.barplot(x=poi_df['Kategorie'].unique(), y=poi_df.groupby('Kategorie')['Citybike_Standorte'].sum(), palette='viridis')\n",
    "plt.title('Anzahl der Citybike-Standorte pro POI Kategorie')\n",
    "plt.xlabel('Kategorie')\n",
    "plt.ylabel('Anzahl der Citybike-Standorte')\n",
    "plt.xticks(rotation=45)\n",
    "plt.show()"
   ]
  },
  {
   "cell_type": "code",
   "execution_count": null,
   "id": "40cefd9b-f1e1-4879-ae52-79e90a11850d",
   "metadata": {},
   "outputs": [],
   "source": []
  },
  {
   "cell_type": "markdown",
   "id": "c62c1124-dc28-4ebb-b940-990e047c3a8d",
   "metadata": {},
   "source": [
    "# Set up Spark"
   ]
  },
  {
   "cell_type": "code",
   "execution_count": null,
   "id": "9e89771b-9b71-4c0e-8306-17d75ccd6106",
   "metadata": {},
   "outputs": [],
   "source": [
    "import os\n",
    "from pyspark.sql import SparkSession\n",
    "\n",
    "# Create Spark session & context\n",
    "spark = (SparkSession\n",
    "         .builder\n",
    "         .appName('nextbike-data-consumer')\n",
    "         .config(\"spark.jars.packages\", \"org.apache.spark:spark-sql-kafka-0-10_2.12:3.3.0\")\n",
    "         .getOrCreate())\n",
    "\n",
    "sc = spark.sparkContext\n",
    "\n",
    "print(\"Spark session created successfully.\")"
   ]
  },
  {
   "cell_type": "markdown",
   "id": "30513e67-cfb4-40f7-9f6c-c2c40e2e82ed",
   "metadata": {},
   "source": [
    "## Transform and Analyze Data"
   ]
  },
  {
   "cell_type": "code",
   "execution_count": null,
   "id": "d1dbff32-5c59-4257-9185-2ccc97e47504",
   "metadata": {},
   "outputs": [],
   "source": [
    "from pyspark.sql.functions import col, from_json, explode\n",
    "from pyspark.sql.types import StructType, StructField, StringType, DoubleType, IntegerType, ArrayType, LongType\n",
    "\n",
    "# Define schema for the data\n",
    "place_schema = StructType([\n",
    "    StructField(\"uid\", LongType(), True),\n",
    "    StructField(\"name\", StringType(), True),\n",
    "    StructField(\"bike\", IntegerType(), True),\n",
    "    StructField(\"bike_numbers\", ArrayType(StringType()), True),\n",
    "    StructField(\"free_racks\", IntegerType(), True),\n",
    "    StructField(\"bike_racks\", IntegerType(), True),\n",
    "    StructField(\"lat\", DoubleType(), True),\n",
    "    StructField(\"lng\", DoubleType(), True)\n",
    "])\n",
    "\n",
    "city_schema = StructType([\n",
    "    StructField(\"name\", StringType(), True),\n",
    "    StructField(\"places\", ArrayType(place_schema), True)\n",
    "])\n",
    "\n",
    "country_schema = StructType([\n",
    "    StructField(\"name\", StringType(), True),\n",
    "    StructField(\"cities\", ArrayType(city_schema), True)\n",
    "])\n",
    "\n",
    "data_schema = StructType([\n",
    "    StructField(\"countries\", ArrayType(country_schema), True)\n",
    "])\n",
    "\n",
    "# Create stream dataframe setting Kafka server, topic, and offset option\n",
    "df = (spark\n",
    "      .readStream\n",
    "      .format(\"kafka\")\n",
    "      .option(\"kafka.bootstrap.servers\", \"localhost:29093\")  # Kafka server\n",
    "      .option(\"subscribe\", \"nextbike_data\")  # Topic\n",
    "      .option(\"startingOffsets\", \"earliest\")  # Start from beginning\n",
    "      .load())\n",
    "\n",
    "# Convert binary to string key and value\n",
    "df1 = (df\n",
    "       .withColumn(\"key\", df[\"key\"].cast(StringType()))\n",
    "       .withColumn(\"value\", df[\"value\"].cast(StringType())))\n",
    "\n",
    "# Parse JSON data\n",
    "df2 = df1.select(from_json(col(\"value\"), data_schema).alias(\"data\"))\n",
    "\n",
    "# Explode the nested structure to flatten the DataFrame\n",
    "df_countries = df2.select(explode(col(\"data.countries\")).alias(\"country\"))\n",
    "df_cities = df_countries.select(col(\"country.name\").alias(\"country_name\"), explode(col(\"country.cities\")).alias(\"city\"))\n",
    "df_places = df_cities.select(\n",
    "    col(\"country_name\"),\n",
    "    col(\"city.name\").alias(\"city_name\"),\n",
    "    explode(col(\"city.places\")).alias(\"place\")\n",
    ")\n",
    "\n",
    "# Select and rename required fields\n",
    "df_formatted = df_places.select(\n",
    "    col(\"country_name\").alias(\"country\"),\n",
    "    col(\"city_name\").alias(\"city\"),\n",
    "    col(\"place.uid\").alias(\"place_uid\"),\n",
    "    col(\"place.name\").alias(\"place_name\"),\n",
    "    col(\"place.bike\").alias(\"bike\"),\n",
    "    col(\"place.bike_numbers\").alias(\"bike_numbers\"),\n",
    "    col(\"place.free_racks\").alias(\"free_racks\"),\n",
    "    col(\"place.bike_racks\").alias(\"total_racks\"),\n",
    "    col(\"place.lat\").alias(\"latitude\"),\n",
    "    col(\"place.lng\").alias(\"longitude\")\n",
    ")\n",
    "\n",
    "# Show the schema of the dataframe\n",
    "df_formatted.printSchema()"
   ]
  },
  {
   "cell_type": "markdown",
   "id": "9e4c217f-321b-4706-971e-d55998a727fb",
   "metadata": {},
   "source": [
    "# API"
   ]
  },
  {
   "cell_type": "markdown",
   "id": "7c7f32f7-c2a3-4dfb-bd7f-3356279d3279",
   "metadata": {},
   "source": [
    "## Visualize the Streaming Data"
   ]
  },
  {
   "cell_type": "code",
   "execution_count": null,
   "id": "db86e1f0-d63f-4013-8718-e289cebaa822",
   "metadata": {},
   "outputs": [],
   "source": [
    "# Function to query the API and store data\n",
    "def query_api_and_store_data():\n",
    "    url = \"https://api.nextbike.net/maps/nextbike-live.json\"\n",
    "\n",
    "    try:\n",
    "        response = requests.get(url)\n",
    "        data = response.json()\n",
    "        \n",
    "        # Extract relevant data\n",
    "        countries = data['countries']\n",
    "        records = []\n",
    "        for country in countries:\n",
    "            for city in country['cities']:\n",
    "                for place in city['places']:\n",
    "                    records.append({\n",
    "                        'country': country['name'],\n",
    "                        'city': city['name'],\n",
    "                        'place_uid': place['uid'],\n",
    "                        'place_name': place['name'],\n",
    "                        'bike': place['bike'],\n",
    "                        'bike_numbers': place.get('bike_numbers', []),\n",
    "                        'free_racks': place.get('free_racks', None),\n",
    "                        'total_racks': place.get('bike_racks', None),\n",
    "                        'latitude': place['lat'],\n",
    "                        'longitude': place['lng'],\n",
    "                    })\n",
    "        \n",
    "        # Create DataFrame\n",
    "        df = pd.DataFrame(records)\n",
    "        \n",
    "        # Display the head of the DataFrame\n",
    "        print(df.head())\n",
    "        \n",
    "    except Exception as e:\n",
    "        print(\"Error:\", e)\n",
    "query_api_and_store_data()"
   ]
  }
 ],
 "metadata": {
  "kernelspec": {
   "display_name": "Python 3 (ipykernel)",
   "language": "python",
   "name": "python3"
  },
  "language_info": {
   "codemirror_mode": {
    "name": "ipython",
    "version": 3
   },
   "file_extension": ".py",
   "mimetype": "text/x-python",
   "name": "python",
   "nbconvert_exporter": "python",
   "pygments_lexer": "ipython3",
   "version": "3.11.7"
  }
 },
 "nbformat": 4,
 "nbformat_minor": 5
}
