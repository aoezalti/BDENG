{
 "cells": [
  {
   "cell_type": "code",
   "execution_count": 1,
   "id": "730d634b-a73f-4e05-95fe-364dd04e12df",
   "metadata": {},
   "outputs": [
    {
     "name": "stdout",
     "output_type": "stream",
     "text": [
      "Collecting pymongo\n",
      "  Downloading pymongo-4.7.3-cp311-cp311-win_amd64.whl.metadata (22 kB)\n",
      "Collecting dnspython<3.0.0,>=1.16.0 (from pymongo)\n",
      "  Using cached dnspython-2.6.1-py3-none-any.whl.metadata (5.8 kB)\n",
      "Downloading pymongo-4.7.3-cp311-cp311-win_amd64.whl (483 kB)\n",
      "   ---------------------------------------- 0.0/483.8 kB ? eta -:--:--\n",
      "   ---------------------------------------- 0.0/483.8 kB ? eta -:--:--\n",
      "   ---------------------------------------- 0.0/483.8 kB ? eta -:--:--\n",
      "    --------------------------------------- 10.2/483.8 kB ? eta -:--:--\n",
      "    --------------------------------------- 10.2/483.8 kB ? eta -:--:--\n",
      "   -- ------------------------------------ 30.7/483.8 kB 217.9 kB/s eta 0:00:03\n",
      "   --- ----------------------------------- 41.0/483.8 kB 217.9 kB/s eta 0:00:03\n",
      "   ------- ------------------------------- 92.2/483.8 kB 374.1 kB/s eta 0:00:02\n",
      "   ----------- -------------------------- 143.4/483.8 kB 500.5 kB/s eta 0:00:01\n",
      "   --------------- ---------------------- 194.6/483.8 kB 588.9 kB/s eta 0:00:01\n",
      "   ------------------ ------------------- 235.5/483.8 kB 654.9 kB/s eta 0:00:01\n",
      "   ------------------------ ------------- 307.2/483.8 kB 729.6 kB/s eta 0:00:01\n",
      "   ---------------------------- --------- 368.6/483.8 kB 789.4 kB/s eta 0:00:01\n",
      "   ---------------------------------- --- 440.3/483.8 kB 886.8 kB/s eta 0:00:01\n",
      "   -------------------------------------- 483.8/483.8 kB 865.7 kB/s eta 0:00:00\n",
      "Using cached dnspython-2.6.1-py3-none-any.whl (307 kB)\n",
      "Installing collected packages: dnspython, pymongo\n",
      "Successfully installed dnspython-2.6.1 pymongo-4.7.3\n"
     ]
    }
   ],
   "source": [
    "## Install libraries & install packages needed to run MongoDB\n",
    "!pip3 install pymongo\n",
    "import pymongo\n",
    "import requests\n",
    "import time\n",
    "import matplotlib.pyplot as plt\n",
    "import os\n",
    "from IPython.display import clear_output\n",
    "import pandas as pd\n",
    "import seaborn as sns\n",
    "os.environ['PATH'] += os.pathsep + '/usr/local/bin' "
   ]
  },
  {
   "cell_type": "code",
   "execution_count": 16,
   "id": "db86e1f0-d63f-4013-8718-e289cebaa822",
   "metadata": {},
   "outputs": [
    {
     "name": "stdout",
     "output_type": "stream",
     "text": [
      "       country     city  place_uid  \\\n",
      "0  biciArteixo  Arteixo  193706823   \n",
      "1  biciArteixo  Arteixo  193708042   \n",
      "2  biciArteixo  Arteixo  193709273   \n",
      "3  biciArteixo  Arteixo  193709628   \n",
      "4  biciArteixo  Arteixo  193709970   \n",
      "\n",
      "                                          place_name   bike  \\\n",
      "0  OFICINA DE TURISMO OFICINA DE TURISMO - PL SAB...  False   \n",
      "1  CENTRO DE SAÚDE - PARQUE CENTRAL CENTRO DE SAÚ...  False   \n",
      "2  P. SABÓN - AVDA. DA DEPUTACIÓN P. SABÓN - AVDA...  False   \n",
      "3  PRAIA DE ALBA-SABÓN PRAIA DE ALBA-SABÓN Poligo...  False   \n",
      "4  CENTRO DE SAÚDE DE VILARRODÍS CENTRO DE SAÚDE ...  False   \n",
      "\n",
      "                                        bike_numbers  free_racks  total_racks  \\\n",
      "0  [377581, 377579, 377568, 377556, 377538, 37752...          19           30   \n",
      "1  [377599, 377569, 377566, 377560, 377550, 37754...           6           20   \n",
      "2  [377589, 377585, 377570, 377542, 377537, 37751...           1           10   \n",
      "3  [377588, 377587, 377574, 377561, 377558, 37754...           1           10   \n",
      "4   [377590, 377539, 377534, 377524, 377513, 377507]           4           10   \n",
      "\n",
      "    latitude  longitude  \n",
      "0  43.307001  -8.507216  \n",
      "1  43.300558  -8.507750  \n",
      "2  43.317635  -8.499314  \n",
      "3  43.323618  -8.509929  \n",
      "4  43.316567  -8.480090  \n"
     ]
    }
   ],
   "source": [
    "# Function to query the API and store data\n",
    "def query_api_and_store_data():\n",
    "    url = \"https://api.nextbike.net/maps/nextbike-live.json\"\n",
    "\n",
    "    try:\n",
    "        response = requests.get(url)\n",
    "        data = response.json()\n",
    "        \n",
    "        # Extract relevant data\n",
    "        countries = data['countries']\n",
    "        records = []\n",
    "        for country in countries:\n",
    "            for city in country['cities']:\n",
    "                for place in city['places']:\n",
    "                    records.append({\n",
    "                        'country': country['name'],\n",
    "                        'city': city['name'],\n",
    "                        'place_uid': place['uid'],\n",
    "                        'place_name': place['name'],\n",
    "                        'bike': place['bike'],\n",
    "                        'bike_numbers': place.get('bike_numbers', []),\n",
    "                        'free_racks': place.get('free_racks', None),\n",
    "                        'total_racks': place.get('bike_racks', None),\n",
    "                        'latitude': place['lat'],\n",
    "                        'longitude': place['lng'],\n",
    "                    })\n",
    "        \n",
    "        # Create DataFrame\n",
    "        df = pd.DataFrame(records)\n",
    "        \n",
    "        # Display the head of the DataFrame\n",
    "        print(df.head())\n",
    "        \n",
    "    except Exception as e:\n",
    "        print(\"Error:\", e)\n",
    "query_api_and_store_data()"
   ]
  }
 ],
 "metadata": {
  "kernelspec": {
   "display_name": "Python 3 (ipykernel)",
   "language": "python",
   "name": "python3"
  },
  "language_info": {
   "codemirror_mode": {
    "name": "ipython",
    "version": 3
   },
   "file_extension": ".py",
   "mimetype": "text/x-python",
   "name": "python",
   "nbconvert_exporter": "python",
   "pygments_lexer": "ipython3",
   "version": "3.11.7"
  }
 },
 "nbformat": 4,
 "nbformat_minor": 5
}
