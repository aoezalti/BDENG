{
 "cells": [
  {
   "cell_type": "code",
   "execution_count": 1,
   "id": "40ec3309-2f0d-4b5b-9f9c-88323a9d5141",
   "metadata": {},
   "outputs": [
    {
     "name": "stdout",
     "output_type": "stream",
     "text": [
      "Starte den Kafka-Consumer und warte auf Nachrichten...\n"
     ]
    },
    {
     "name": "stderr",
     "output_type": "stream",
     "text": [
      "\n",
      "KeyboardInterrupt\n",
      "\n"
     ]
    }
   ],
   "source": [
    "from kafka import KafkaConsumer\n",
    "import json\n",
    "\n",
    "# Kafka Consumer erstellen\n",
    "consumer = KafkaConsumer(\n",
    "    'weather-data',\n",
    "    bootstrap_servers='localhost:9092',\n",
    "    auto_offset_reset='earliest',\n",
    "    enable_auto_commit=True,\n",
    "    group_id='weather-group',\n",
    "    value_deserializer=lambda x: json.loads(x.decode('utf-8'))\n",
    ")\n",
    "\n",
    "print(\"Starte den Kafka-Consumer und warte auf Nachrichten...\")\n",
    "\n",
    "# Nachrichten vom Kafka-Topic konsumieren und ausgeben\n",
    "for message in consumer:\n",
    "    data = message.value\n",
    "    print(f\"Empfangene Nachricht: {data}\")\n",
    "\n",
    "    # Optional: Breche die Schleife nach einer bestimmten Anzahl von Nachrichten ab\n",
    "    # if some_condition:\n",
    "    #     break\n"
   ]
  }
 ],
 "metadata": {
  "kernelspec": {
   "display_name": "Python 3 (ipykernel)",
   "language": "python",
   "name": "python3"
  },
  "language_info": {
   "codemirror_mode": {
    "name": "ipython",
    "version": 3
   },
   "file_extension": ".py",
   "mimetype": "text/x-python",
   "name": "python",
   "nbconvert_exporter": "python",
   "pygments_lexer": "ipython3",
   "version": "3.11.7"
  }
 },
 "nbformat": 4,
 "nbformat_minor": 5
}
