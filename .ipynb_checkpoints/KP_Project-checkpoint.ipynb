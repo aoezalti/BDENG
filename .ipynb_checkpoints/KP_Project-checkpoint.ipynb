{
 "cells": [
  {
   "cell_type": "code",
   "execution_count": 2,
   "id": "d7013a98-5d04-4d03-83f5-d5fe397be565",
   "metadata": {},
   "outputs": [
    {
     "name": "stdout",
     "output_type": "stream",
     "text": [
      "Requirement already satisfied: kafka-python in c:\\users\\ayseo\\anaconda3\\lib\\site-packages (2.0.2)\n"
     ]
    },
    {
     "name": "stderr",
     "output_type": "stream",
     "text": [
      "\n",
      "[notice] A new release of pip is available: 24.0 -> 24.1\n",
      "[notice] To update, run: python.exe -m pip install --upgrade pip\n"
     ]
    }
   ],
   "source": [
    "# Install the kafka-python library\n",
    "!pip install kafka-python"
   ]
  },
  {
   "cell_type": "code",
   "execution_count": 3,
   "id": "f2d73377-ee48-46cc-8807-ca4490e34d21",
   "metadata": {},
   "outputs": [],
   "source": [
    "# Load important libraries\n",
    "from kafka import KafkaProducer\n",
    "import requests\n",
    "import json\n",
    "import time"
   ]
  },
  {
   "cell_type": "code",
   "execution_count": 14,
   "id": "a1673a7c-01f3-49fd-bb6c-fc9d038ce0c5",
   "metadata": {},
   "outputs": [],
   "source": [
    "# Create Kafka producer\n",
    "# Make sure Kafka is running on localhost:29092\n",
    "producer = KafkaProducer(bootstrap_servers=['localhost:29093'],\n",
    "                         value_serializer=lambda v: json.dumps(v).encode('utf-8'))\n"
   ]
  },
  {
   "cell_type": "code",
   "execution_count": 24,
   "id": "5eae7aac-bb20-430e-ac83-e451ae911944",
   "metadata": {},
   "outputs": [],
   "source": [
    "# REST API URL\n",
    "api_url = 'https://api.nextbike.net/maps/nextbike-live.json'\n",
    "topic_name = 'nextbike_data'"
   ]
  },
  {
   "cell_type": "code",
   "execution_count": null,
   "id": "c0affb6e-f64d-4f5d-8b0c-c9dba00233fe",
   "metadata": {},
   "outputs": [],
   "source": [
    "import time\n",
    "\n",
    "def fetch_and_publish_data():\n",
    "    response = requests.get(api_url)\n",
    "    if response.status_code == 200:\n",
    "        data = response.json()\n",
    "        # Iterate through countries in the data\n",
    "        for country in data.get('countries', []):\n",
    "            for city in country.get('cities', []):\n",
    "                if city.get('name') == 'Vienna':\n",
    "                    producer.send(topic_name, value=city)\n",
    "                    print(f\"Data for city {city.get('name')} published to Kafka topic.\")\n",
    "    else:\n",
    "        print(\"Failed to fetch data from API\")\n",
    "\n",
    "def continuous_fetch_and_publish(duration=30):\n",
    "    # Set end time for the loop\n",
    "    end_time = time.time() + duration\n",
    "\n",
    "    try:\n",
    "        while time.time() < end_time:\n",
    "            fetch_and_publish_data()\n",
    "            time.sleep(15)  # Fetch data every 10 seconds\n",
    "    except KeyboardInterrupt:\n",
    "        print(\"Stopping data fetch and publish loop.\")\n",
    "\n",
    "    print(\"Stopping data fetch and publish loop.\")\n",
    "\n",
    "# Aufrufen der Funktion mit einer Dauer von 30 Sekunden\n",
    "continuous_fetch_and_publish(duration=120)\n"
   ]
  },
  {
   "cell_type": "code",
   "execution_count": 8,
   "id": "a7175469-d628-4c4d-a8bd-df0d28c2964a",
   "metadata": {},
   "outputs": [],
   "source": [
    "# Close the connection when done \n",
    "producer.close()"
   ]
  }
 ],
 "metadata": {
  "kernelspec": {
   "display_name": "Python 3 (ipykernel)",
   "language": "python",
   "name": "python3"
  },
  "language_info": {
   "codemirror_mode": {
    "name": "ipython",
    "version": 3
   },
   "file_extension": ".py",
   "mimetype": "text/x-python",
   "name": "python",
   "nbconvert_exporter": "python",
   "pygments_lexer": "ipython3",
   "version": "3.11.7"
  }
 },
 "nbformat": 4,
 "nbformat_minor": 5
}
